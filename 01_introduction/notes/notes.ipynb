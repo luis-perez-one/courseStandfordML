{
 "cells": [
  {
   "cell_type": "markdown",
   "id": "chief-shannon",
   "metadata": {},
   "source": [
    "## Supervised Learning\n",
    "\n",
    "In supervised learning, we are given a data set and already know what our correct output should look like, having the idea that there is a relationship between the input and the output.\n",
    "\n",
    "Supervised learning problems are categorized into \"regression\" and \"classification\" problems. In a regression problem, we are trying to predict results within a continuous output, meaning that we are trying to map input variables to some continuous function. In a classification problem, we are instead trying to predict results in a discrete output. In other words, we are trying to map input variables into discrete categories. \n",
    "\n",
    "- Example 1:\n",
    "\n",
    "    Given data about the size of houses on the real estate market, try to predict their price. Price as a function of size is a continuous output, so this is a regression problem.\n",
    "\n",
    "    We could turn this example into a classification problem by instead making our output about whether the house \"sells for more or less than the asking price.\" Here we are classifying the houses based on price into two discrete categories.\n",
    "    \n",
    "\n",
    "- Example 2:\n",
    "\n",
    "    (a) Regression - Given a picture of a person, we have to predict their age on the basis of the given picture\n",
    "\n",
    "    (b) Classification - Given a patient with a tumor, we have to predict whether the tumor is malignant or benign. "
   ]
  },
  {
   "cell_type": "markdown",
   "id": "romantic-compilation",
   "metadata": {},
   "source": [
    "## Unsupervised Learning\n",
    "\n",
    "Unsupervised learning allows us to approach problems with little or no idea what our results should look like. We can derive structure from data where we don't necessarily know the effect of the variables.\n",
    "\n",
    "We can derive this structure by clustering the data based on relationships among the variables in the data.\n",
    "\n",
    "With unsupervised learning there is no feedback based on the prediction results.\n",
    "\n",
    "Example:\n",
    "\n",
    "- Clustering: Take a collection of 1,000,000 different genes, and find a way to automatically group these genes into groups that are somehow similar or related by different variables, such as lifespan, location, roles, and so on.\n",
    "\n",
    "- Non-clustering: The \"Cocktail Party Algorithm\", allows you to find structure in a chaotic environment. (i.e. identifying individual voices and music from a mesh of sounds at a cocktail party)."
   ]
  },
  {
   "cell_type": "markdown",
   "id": "sound-yellow",
   "metadata": {},
   "source": [
    "### Notation\n",
    "\n",
    "- $m$: Training examples\n",
    "- $x$: input variable / feature\n",
    "- $y$: output variable / target\n",
    "- $(x,y)$: training example\n",
    "- $(x^{(i)},y^{(i)})$: $i$-th training example\n",
    "\n",
    "*hypothesis*. By convention $h$ is a function that maps from $x$'s to $y$'s."
   ]
  },
  {
   "cell_type": "markdown",
   "id": "numerical-longer",
   "metadata": {},
   "source": [
    "## Linear Regresion \n",
    "5:09 minimizing 1/2 of something gives you the same results \n",
    "\n",
    "$$\n",
    "h_{\\theta_0, \\theta_1}\\left(x^{(i)}\\right)=\\theta_{0}+\\theta_{1}x^{(i)} \\\\\n",
    "J(\\theta_0, \\theta_1) = \\frac{1}{2m}\\sum_{i=1}^{m}\\left(h_{\\theta}^{(i)}-y^{(i)}\\right)^2\n",
    "$$\n",
    "\n",
    "minimize $J$, the cost function which represents the \"squared error function\"\n",
    "\n",
    "\"The mean is halved $\\left(\\frac{1}{2}\\right)$ as a convenience for the computation of the gradient descent, as the derivative term of the square function will cancel out the $\\frac{1}{2}$term.\"\n"
   ]
  },
  {
   "cell_type": "markdown",
   "id": "exclusive-liberty",
   "metadata": {},
   "source": [
    "## Cost function\n",
    "1. Hypothesis\n",
    "$$h_{\\theta_0, \\theta_1}\\left(x\\right)=\\theta_{0}+\\theta_{1}x$$\n",
    "2. Parameters\n",
    "$$\\theta_0, \\theta_1$$\n",
    "3. Cost function\n",
    "$$J(\\theta_0, \\theta_1) = \\frac{1}{2m}\\sum_{i=1}^{m}\\left(h_{\\theta_0,\\theta_1}^{(i)}(x)-y^{(i)}\\right)^2 \\\\\n",
    "J(\\theta_0, \\theta_1) = \\frac{1}{2m}\\sum_{i=1}^{m}\\left(\\theta_{0}+\\theta_{1}x^{(i)}-y^{(i)}\\right)^2\n",
    "$$\n",
    "4. Goal\n",
    "$$\\mathrm{minimize}J(\\theta_0, \\theta_1)$$\n",
    "\n"
   ]
  },
  {
   "cell_type": "markdown",
   "id": "scenic-annotation",
   "metadata": {},
   "source": [
    "## Gradient descendent algorithm simple linear regresion\n",
    "\n",
    "repeat until convergence:\n",
    "\n",
    "$$\n",
    "\\theta_j:=\\theta_j-\\alpha\\frac{\\partial}{\\partial{\\theta_j}}J(\\theta_0,\\theta_1)\n",
    "$$\n",
    "\n",
    "as for the partial derivative term, $\\frac{\\partial}{\\partial{\\theta_j}}J(\\theta_0,\\theta_1)$ it is substituted by\n",
    "\n",
    "$$\n",
    "\\frac{\\partial}{\\partial{\\theta_j}}\\left(\\frac{1}{2m}\\sum_{i=1}^{m}\\left(\\theta_{0}+\\theta_{1}x^{(i)}-y^{(i)}\\right)^2\\right)\\forall{j}\n",
    "$$\n",
    "\n",
    "so for $j=0$ and j=1\n",
    "\n",
    "$$\n",
    "\\frac{\\partial}{\\partial{\\theta_0}}\\left(\\frac{1}{2m}\\sum_{i=1}^{m}\\left(\\theta_{0}+\\theta_{1}x^{(i)}-y^{(i)}\\right)^2\\right) = \\mathrm{tbd} \\\\\n",
    "\\frac{\\partial}{\\partial{\\theta_1}}\\left(\\frac{1}{2m}\\sum_{i=1}^{m}\\left(\\theta_{0}+\\theta_{1}x^{(i)}-y^{(i)}\\right)^2\\right) = \\mathrm{tbd}\n",
    "$$\n"
   ]
  },
  {
   "cell_type": "code",
   "execution_count": null,
   "id": "commercial-december",
   "metadata": {},
   "outputs": [],
   "source": []
  }
 ],
 "metadata": {
  "kernelspec": {
   "display_name": "Python 3",
   "language": "python",
   "name": "python3"
  },
  "language_info": {
   "codemirror_mode": {
    "name": "ipython",
    "version": 3
   },
   "file_extension": ".py",
   "mimetype": "text/x-python",
   "name": "python",
   "nbconvert_exporter": "python",
   "pygments_lexer": "ipython3",
   "version": "3.9.2"
  }
 },
 "nbformat": 4,
 "nbformat_minor": 5
}
