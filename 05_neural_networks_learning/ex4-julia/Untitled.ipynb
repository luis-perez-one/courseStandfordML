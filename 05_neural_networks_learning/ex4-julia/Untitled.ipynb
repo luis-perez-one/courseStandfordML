{
 "cells": [
  {
   "cell_type": "code",
   "execution_count": 1,
   "id": "ceramic-smell",
   "metadata": {},
   "outputs": [],
   "source": [
    "using StatsFuns:logistic\n",
    "sigmoid = logistic\n",
    "using CSV:File\n",
    "using DataFrames"
   ]
  },
  {
   "cell_type": "code",
   "execution_count": 2,
   "id": "golden-papua",
   "metadata": {},
   "outputs": [],
   "source": [
    "# DataTypes\n",
    "using LinearAlgebra:Transpose\n",
    "Numeric = Union{Int64,Float64}\n",
    "NumericV = Union{Array{Int64,1},Array{Float64,1}}\n",
    "NumericM = Union{Array{Int64,2},Array{Float64,2},Transpose{Float64,Array{Float64,2}},Transpose{Int64,Array{Int64,2}}}\n",
    "arrayNumericV = Union{Array{Array{Int64,1},1},Array{Array{Float64,1},1}}\n",
    "TupleNumericM = Tuple{NumericM, NumericM};"
   ]
  },
  {
   "cell_type": "code",
   "execution_count": 3,
   "id": "proved-cause",
   "metadata": {},
   "outputs": [],
   "source": [
    "# csv files -> DataFrames -> arrays\n",
    "theta1 = Matrix{Float64}(File(\"./theta1.csv\", header=false) \n",
    "    |> DataFrame);\n",
    "theta2 = Matrix{Float64}(File(\"./theta2.csv\", header=false) |> DataFrame);\n",
    "X = Matrix{Float64}(File(\"./X.csv\", header=false) |> DataFrame);\n",
    "y = vec(Matrix(File(\"./y.csv\", header=false) |> DataFrame));"
   ]
  },
  {
   "cell_type": "code",
   "execution_count": 4,
   "id": "registered-minute",
   "metadata": {},
   "outputs": [
    {
     "data": {
      "text/plain": [
       "Tuple{Array{Float64,2},Array{Float64,2}}"
      ]
     },
     "execution_count": 4,
     "metadata": {},
     "output_type": "execute_result"
    }
   ],
   "source": [
    "all_θ_matrices = (theta1, theta2);"
   ]
  },
  {
   "cell_type": "code",
   "execution_count": 13,
   "id": "worthy-registrar",
   "metadata": {},
   "outputs": [
    {
     "data": {
      "text/plain": [
       "nnCostClasification (generic function with 1 method)"
      ]
     },
     "execution_count": 13,
     "metadata": {},
     "output_type": "execute_result"
    }
   ],
   "source": [
    "function nnCostClasification(all_θ_matrices::TupleNumericM, X::NumericM, y::NumericV)::Numeric\n",
    "    labels = collect(BitSet(y));\n",
    "    labelsQ = length(labels);\n",
    "    θ_matricesQ = length(collect(all_θ_matrices));\n",
    "    layersQ = θ_matricesQ+1;\n",
    "    J = 0;\n",
    "    \n",
    "    # cost without regularization\n",
    "    for lb in 1:labelsQ\n",
    "        ly = 1;\n",
    "        current_lb = labels[lb];\n",
    "        while ly ≤ layersQ;\n",
    "            if ly == 1;\n",
    "                a_ly = X;\n",
    "                current_lb_idx = findall(==(current_lb), y);\n",
    "                a_ly = a_ly[current_lb_idx,:];\n",
    "            end\n",
    "            # add bias units to a_ly_lb\n",
    "            a_ly = [ones(size(a_ly)[1],1) a_ly];\n",
    "            ly += 1;\n",
    "            a_previous_ly = a_ly;\n",
    "            all_θ_previous_ly = all_θ_matrices[ly-1];\n",
    "            z_ly = a_previous_ly*θ_previous_ly';\n",
    "            a_ly = sigmoid(z_ly);\n",
    "        end\n",
    "        h_x_lb = a_ly;\n",
    "        y_lb = zeros(size(labels)); y_lb[lb_idx] = 1;\n",
    "        J += (-(log.(hx_lb))*y_lbl-(log(1 .- (hx_lb))*(1 .- y_lbl)));\n",
    "    end\n",
    "    obs_q = size(X)[2];\n",
    "    J = (1/obs_q)*J;\n",
    "end"
   ]
  },
  {
   "cell_type": "code",
   "execution_count": null,
   "id": "impaired-pottery",
   "metadata": {},
   "outputs": [],
   "source": [
    "TupleNumericM = Union{};\n",
    "for t1 in union_types(NumericM)\n",
    "    for t2 in union_types(NumericM)\n",
    "        TupleNumericM = Union{Union{t1,t2},TupleNumericM}\n",
    "        \n",
    "        "
   ]
  },
  {
   "cell_type": "code",
   "execution_count": 14,
   "id": "fiscal-consciousness",
   "metadata": {},
   "outputs": [
    {
     "ename": "LoadError",
     "evalue": "ArgumentError: number of rows of each array must match (got (1, 2))",
     "output_type": "error",
     "traceback": [
      "ArgumentError: number of rows of each array must match (got (1, 2))",
      "",
      "Stacktrace:",
      " [1] _typed_hcat(::Type{Float64}, ::Tuple{Array{Float64,1},Array{Float64,2}}) at ./abstractarray.jl:1404",
      " [2] typed_hcat at ./abstractarray.jl:1391 [inlined]",
      " [3] hcat at /builddir/build/BUILD/julia/build/usr/share/julia/stdlib/v1.5/SparseArrays/src/sparsevector.jl:1078 [inlined]",
      " [4] nnCostClasification(::Tuple{Array{Float64,2},Array{Float64,2}}, ::Array{Float64,2}, ::Array{Int64,1}) at ./In[13]:19",
      " [5] top-level scope at In[14]:1"
     ]
    }
   ],
   "source": [
    "J = nnCostClasification(all_θ_matrices, X, y)"
   ]
  },
  {
   "cell_type": "code",
   "execution_count": null,
   "id": "driven-assault",
   "metadata": {},
   "outputs": [],
   "source": [
    "function maskTheta(theta)\n",
    "    mask = ones(size(theta))\n",
    "    if typeof(mask) == Array{Float64,1}\n",
    "        mask[1] = 0;\n",
    "    else\n",
    "        mask[:,1] .= 0;\n",
    "    end\n",
    "    maskedTheta = theta.*mask\n",
    "end"
   ]
  },
  {
   "cell_type": "code",
   "execution_count": null,
   "id": "veterinary-travel",
   "metadata": {},
   "outputs": [],
   "source": [
    "vec(y)"
   ]
  },
  {
   "cell_type": "code",
   "execution_count": null,
   "id": "assured-financing",
   "metadata": {},
   "outputs": [],
   "source": []
  }
 ],
 "metadata": {
  "kernelspec": {
   "display_name": "Julia 1.5.3",
   "language": "julia",
   "name": "julia-1.5"
  },
  "language_info": {
   "file_extension": ".jl",
   "mimetype": "application/julia",
   "name": "julia",
   "version": "1.5.3"
  }
 },
 "nbformat": 4,
 "nbformat_minor": 5
}
